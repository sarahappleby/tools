{
 "cells": [
  {
   "cell_type": "code",
   "execution_count": 1,
   "metadata": {},
   "outputs": [],
   "source": [
    "import numpy as np\n",
    "from scipy.stats import binned_statistic, binned_statistic_2d, binned_statistic_dd"
   ]
  },
  {
   "cell_type": "code",
   "execution_count": 2,
   "metadata": {},
   "outputs": [
    {
     "name": "stdout",
     "output_type": "stream",
     "text": [
      "[0.  0.2 0.4 0.6 0.8 1. ]\n"
     ]
    }
   ],
   "source": [
    "# Make some bins and random data\n",
    "\n",
    "dx = 0.2\n",
    "xmin = 0.\n",
    "nbins = 5\n",
    "npoints = 100\n",
    "bin_edges_x = np.arange(xmin, dx*nbins + dx, dx)\n",
    "print(bin_edges_x)"
   ]
  },
  {
   "cell_type": "code",
   "execution_count": 3,
   "metadata": {},
   "outputs": [],
   "source": [
    "x = np.random.rand(npoints) # random between 0 and 1\n",
    "y = np.random.rand(npoints) + 1. # random between 1 and 2\n",
    "bin_edges_y = bin_edges_x + 1."
   ]
  },
  {
   "cell_type": "code",
   "execution_count": 4,
   "metadata": {},
   "outputs": [],
   "source": [
    "# bin y based on corresponding x bins and compute a statistic for each binned y array\n",
    "bin_stat = binned_statistic(x, y, bins = nbins, statistic = 'mean')"
   ]
  },
  {
   "cell_type": "code",
   "execution_count": 5,
   "metadata": {},
   "outputs": [
    {
     "data": {
      "text/plain": [
       "BinnedStatisticResult(statistic=array([1.63376722, 1.45585101, 1.51615264, 1.59745027, 1.42216428]), bin_edges=array([0.00938742, 0.20710086, 0.40481429, 0.60252773, 0.80024117,\n",
       "       0.99795461]), binnumber=array([2, 1, 5, 4, 4, 2, 4, 4, 3, 5, 4, 5, 5, 2, 2, 1, 3, 1, 2, 3, 3, 4,\n",
       "       3, 3, 4, 3, 3, 3, 3, 4, 3, 3, 1, 4, 3, 1, 3, 1, 3, 2, 3, 2, 5, 4,\n",
       "       4, 1, 2, 5, 3, 3, 1, 3, 5, 2, 1, 3, 5, 2, 3, 4, 4, 4, 3, 5, 4, 5,\n",
       "       4, 4, 5, 2, 5, 1, 4, 1, 2, 5, 3, 5, 2, 4, 5, 3, 2, 2, 1, 2, 5, 2,\n",
       "       1, 2, 1, 4, 3, 5, 2, 5, 3, 5, 1, 5]))"
      ]
     },
     "execution_count": 5,
     "metadata": {},
     "output_type": "execute_result"
    }
   ],
   "source": [
    "# bin_stat has the statistic array (nbins,) of means, the bin_edges (nbins+1,) and binnumber array (npoints, ) \n",
    "# which contains the bin id of every point in the binned y array\n",
    "bin_stat"
   ]
  },
  {
   "cell_type": "code",
   "execution_count": 6,
   "metadata": {},
   "outputs": [
    {
     "name": "stderr",
     "output_type": "stream",
     "text": [
      "/home/earthwave/miniconda3/envs/dev/lib/python3.7/site-packages/ipykernel_launcher.py:3: VisibleDeprecationWarning: Creating an ndarray from ragged nested sequences (which is a list-or-tuple of lists-or-tuples-or ndarrays with different lengths or shapes) is deprecated. If you meant to do this, you must specify 'dtype=object' when creating the ndarray\n",
      "  This is separate from the ipykernel package so we can avoid doing imports until\n"
     ]
    },
    {
     "data": {
      "text/plain": [
       "array([array([0.02312967, 0.05118469, 0.13648097, 0.20316861, 0.15859225,\n",
       "       0.08289751, 0.00938742, 0.0477316 , 0.10570608, 0.01544491,\n",
       "       0.03173148, 0.14648337, 0.01840557, 0.18619345, 0.20137931]),\n",
       "       array([0.28112461, 0.20779931, 0.36433646, 0.21099533, 0.23839216,\n",
       "       0.28194952, 0.2857064 , 0.27430598, 0.3443361 , 0.34641834,\n",
       "       0.24208006, 0.36591723, 0.24539127, 0.30565465, 0.23968577,\n",
       "       0.32489979, 0.31929907, 0.290857  , 0.24033445]),\n",
       "       array([0.49857564, 0.51189027, 0.43268097, 0.47397668, 0.56224036,\n",
       "       0.46196704, 0.60226305, 0.46431964, 0.55723223, 0.48116758,\n",
       "       0.57771894, 0.48552536, 0.49916581, 0.57314334, 0.4413105 ,\n",
       "       0.55056782, 0.55272082, 0.47439415, 0.4205169 , 0.48438799,\n",
       "       0.47273573, 0.43112041, 0.50550967, 0.42433054, 0.54834392,\n",
       "       0.54893384]),\n",
       "       array([0.722912  , 0.61135238, 0.63747237, 0.60642599, 0.78997994,\n",
       "       0.70359471, 0.79638728, 0.79362651, 0.68595046, 0.63467836,\n",
       "       0.61944   , 0.79715503, 0.71011971, 0.63573753, 0.70493057,\n",
       "       0.73216356, 0.62949005, 0.66422593, 0.76734023, 0.64497284]),\n",
       "       array([0.8707685 , 0.91243875, 0.91599221, 0.99795461, 0.8678137 ,\n",
       "       0.80071502, 0.80909264, 0.82859941, 0.97538832, 0.90663608,\n",
       "       0.81482508, 0.89822402, 0.85148276, 0.91354736, 0.82308963,\n",
       "       0.9215461 , 0.91076328, 0.9671971 , 0.84243385, 0.98108423])],\n",
       "      dtype=object)"
      ]
     },
     "execution_count": 6,
     "metadata": {},
     "output_type": "execute_result"
    }
   ],
   "source": [
    "# using the resulting binnumber to bin the x array shows that the binnumber corresponds to x bins:\n",
    "\n",
    "binned_x = np.array([x[bin_stat.binnumber == i] for i in range(1, len(bin_edges_x))])\n",
    "binned_x"
   ]
  },
  {
   "cell_type": "code",
   "execution_count": 7,
   "metadata": {},
   "outputs": [
    {
     "name": "stderr",
     "output_type": "stream",
     "text": [
      "/home/earthwave/miniconda3/envs/dev/lib/python3.7/site-packages/ipykernel_launcher.py:2: VisibleDeprecationWarning: Creating an ndarray from ragged nested sequences (which is a list-or-tuple of lists-or-tuples-or ndarrays with different lengths or shapes) is deprecated. If you meant to do this, you must specify 'dtype=object' when creating the ndarray\n",
      "  \n"
     ]
    },
    {
     "data": {
      "text/plain": [
       "array([array([1.82273343, 1.7175696 , 1.10060314, 1.91308713, 1.43492746,\n",
       "       1.94152529, 1.82069722, 1.43793883, 1.61240145, 1.40609489,\n",
       "       1.781968  , 1.48851699, 1.36244573, 1.79337445, 1.87262463]),\n",
       "       array([1.74058909, 1.40233784, 1.70253763, 1.19159723, 1.47324656,\n",
       "       1.34402303, 1.61007948, 1.228282  , 1.07682672, 1.89310293,\n",
       "       1.91281443, 1.46971922, 1.7321487 , 1.96194613, 1.17866671,\n",
       "       1.51806355, 1.00045189, 1.11992309, 1.10481297]),\n",
       "       array([1.50515427, 1.50351091, 1.74566586, 1.49852242, 1.07897524,\n",
       "       1.97193839, 1.49766598, 1.44077815, 1.73825541, 1.02093234,\n",
       "       1.34163332, 1.63797067, 1.82928075, 1.8322159 , 1.49943438,\n",
       "       1.21902387, 1.53937324, 1.36898124, 1.53245531, 1.23148715,\n",
       "       1.91010078, 1.40884633, 1.3381201 , 1.98503275, 1.37410567,\n",
       "       1.37050811]),\n",
       "       array([1.45784731, 1.94192136, 1.9360683 , 1.92299325, 1.7238491 ,\n",
       "       1.78236345, 1.58648639, 1.65680912, 1.93501203, 1.68272757,\n",
       "       1.95976416, 1.37580842, 1.4601769 , 1.20054022, 1.48993287,\n",
       "       1.35215843, 1.55164531, 1.66508094, 1.03921988, 1.22860037]),\n",
       "       array([1.51673781, 1.87654439, 1.41349755, 1.18876782, 1.33771901,\n",
       "       1.53140914, 1.5109521 , 1.49597101, 1.73967282, 1.14916687,\n",
       "       1.22103869, 1.4854913 , 1.57287966, 1.12148263, 1.05082644,\n",
       "       1.41159411, 1.91798265, 1.29787587, 1.1114152 , 1.49226052])],\n",
       "      dtype=object)"
      ]
     },
     "execution_count": 7,
     "metadata": {},
     "output_type": "execute_result"
    }
   ],
   "source": [
    "# So using the same binnumber to bin y values gives us y binned by x\n",
    "binned_y = np.array([y[bin_stat.binnumber == i] for i in range(1, len(bin_edges_x))])\n",
    "binned_y"
   ]
  },
  {
   "cell_type": "code",
   "execution_count": 8,
   "metadata": {},
   "outputs": [
    {
     "name": "stdout",
     "output_type": "stream",
     "text": [
      "[1.63376722 1.45585101 1.51615264 1.59745027 1.42216428]\n",
      "[1.6337672154148624, 1.455851010503185, 1.5161526363958917, 1.5974502689370556, 1.4221642795142753]\n"
     ]
    }
   ],
   "source": [
    "# We can recover the bin_stat.statistic array by computing the mean inside each of these bins:\n",
    "\n",
    "print(bin_stat.statistic)\n",
    "print([np.mean(i) for i in binned_y])"
   ]
  },
  {
   "cell_type": "code",
   "execution_count": 9,
   "metadata": {},
   "outputs": [],
   "source": [
    "# Compute a third array based on x and y:\n",
    "z = np.random.rand(npoints) + 2.\n",
    "bin_edges_z = bin_edges_x + 2.\n",
    "\n",
    "# Now we can bin this in both x and y using binned_statistic_2d:\n",
    "bin_stat_2d = binned_statistic_2d(x, y, z, statistic='mean', \n",
    "                                  bins=[bin_edges_x, bin_edges_y], expand_binnumbers=True)"
   ]
  },
  {
   "cell_type": "code",
   "execution_count": 10,
   "metadata": {},
   "outputs": [
    {
     "data": {
      "text/plain": [
       "(5, 5)"
      ]
     },
     "execution_count": 10,
     "metadata": {},
     "output_type": "execute_result"
    }
   ],
   "source": [
    "bin_stat_2d.statistic.shape"
   ]
  },
  {
   "cell_type": "code",
   "execution_count": 11,
   "metadata": {},
   "outputs": [],
   "source": [
    "# here we have the same problem as before, where we don't know which way to read the array :) \n",
    "# So I'll modify this so that we only have 4 y bins, to make it easier to see\n",
    "\n",
    "bin_stat_2d = binned_statistic_2d(x, y, z, statistic='mean', \n",
    "                                  bins=[bin_edges_x, bin_edges_y[:-1]], expand_binnumbers=True)"
   ]
  },
  {
   "cell_type": "code",
   "execution_count": 12,
   "metadata": {},
   "outputs": [
    {
     "name": "stdout",
     "output_type": "stream",
     "text": [
      "(5, 4)\n",
      "[[2.10124378 2.3224929  2.59528203 2.55645253]\n",
      " [2.4321531  2.64772109 2.30146059 2.46295536]\n",
      " [2.5689888  2.45029478 2.72362489 2.55353154]\n",
      " [2.21308382 2.54473492 2.36391868 2.56725941]\n",
      " [2.3376162  2.45164533 2.42089424 2.63156451]]\n"
     ]
    }
   ],
   "source": [
    "print(bin_stat_2d.statistic.shape)\n",
    "print(bin_stat_2d.statistic)"
   ]
  },
  {
   "cell_type": "code",
   "execution_count": 13,
   "metadata": {},
   "outputs": [
    {
     "name": "stdout",
     "output_type": "stream",
     "text": [
      "[2.10124378 2.3224929  2.59528203 2.55645253]\n",
      "[2.10124378 2.4321531  2.5689888  2.21308382 2.3376162 ]\n"
     ]
    }
   ],
   "source": [
    "print(bin_stat_2d.statistic[0]) # the first x bin, containing the 4 y bins\n",
    "print(bin_stat_2d.statistic[:, 0]) # the first y bin, containing the 5 x bins"
   ]
  },
  {
   "cell_type": "code",
   "execution_count": 14,
   "metadata": {},
   "outputs": [
    {
     "name": "stderr",
     "output_type": "stream",
     "text": [
      "/home/earthwave/miniconda3/envs/dev/lib/python3.7/site-packages/ipykernel_launcher.py:8: VisibleDeprecationWarning: Creating an ndarray from ragged nested sequences (which is a list-or-tuple of lists-or-tuples-or ndarrays with different lengths or shapes) is deprecated. If you meant to do this, you must specify 'dtype=object' when creating the ndarray\n",
      "  \n"
     ]
    }
   ],
   "source": [
    "# Compute a fourth array, and lets bin in 3d using binned_statistic_dd\n",
    "r = x**2+ y**2 +z**2\n",
    "\n",
    "# Provide the x, y, z arrays - this would be of shape (3, npoints), so we need to transpose it to get \n",
    "# it into shape (npoints, 3) as required\n",
    "\n",
    "bin_stat_dd = binned_statistic_dd(np.array([x, y, z]).T, r, statistic='mean', \n",
    "                                  bins=np.array([bin_edges_x, bin_edges_y[:-1], bin_edges_z]))"
   ]
  },
  {
   "cell_type": "code",
   "execution_count": 15,
   "metadata": {},
   "outputs": [
    {
     "data": {
      "text/plain": [
       "(5, 4, 5)"
      ]
     },
     "execution_count": 15,
     "metadata": {},
     "output_type": "execute_result"
    }
   ],
   "source": [
    "bin_stat_dd.statistic.shape"
   ]
  },
  {
   "cell_type": "code",
   "execution_count": 16,
   "metadata": {},
   "outputs": [
    {
     "name": "stdout",
     "output_type": "stream",
     "text": [
      "[[ 5.64517976         nan         nan         nan         nan]\n",
      " [        nan  7.25057042         nan         nan         nan]\n",
      " [        nan  7.63728954         nan  9.857915   10.39197591]\n",
      " [        nan  8.14658359         nan 10.71955372 11.43960962]]\n",
      "[5.64517976        nan        nan        nan        nan]\n",
      "[[5.64517976        nan        nan        nan        nan]\n",
      " [5.6538057  7.13034627 7.83356843 8.7640143         nan]\n",
      " [       nan 6.37369926        nan        nan 9.77290188]\n",
      " [       nan 6.56652897        nan        nan        nan]\n",
      " [6.38375388 7.10861736 8.29002943 9.02651407        nan]]\n",
      "[[5.64517976        nan        nan        nan]\n",
      " [5.6538057         nan 6.76975363        nan]\n",
      " [       nan 6.73718884        nan        nan]\n",
      " [       nan 6.74152587 7.05435286 7.81626881]\n",
      " [6.38375388        nan        nan        nan]]\n"
     ]
    }
   ],
   "source": [
    "print(bin_stat_dd.statistic[0]) # the first x bin, containing the 4 y bins and 5 z bins\n",
    "print(bin_stat_dd.statistic[0][0]) # the first x bin and y bin, containing the 5 z bins\n",
    "print(bin_stat_dd.statistic[:, 0]) # the first y bin, containing the 5 x bins and the 5 z bins\n",
    "print(bin_stat_dd.statistic[:, :, 0]) # the first z bin, containing the 5 x bins and the 4 y bins"
   ]
  },
  {
   "cell_type": "code",
   "execution_count": null,
   "metadata": {},
   "outputs": [],
   "source": []
  }
 ],
 "metadata": {
  "kernelspec": {
   "display_name": "Python 3",
   "language": "python",
   "name": "python3"
  },
  "language_info": {
   "codemirror_mode": {
    "name": "ipython",
    "version": 3
   },
   "file_extension": ".py",
   "mimetype": "text/x-python",
   "name": "python",
   "nbconvert_exporter": "python",
   "pygments_lexer": "ipython3",
   "version": "3.7.8"
  }
 },
 "nbformat": 4,
 "nbformat_minor": 4
}
